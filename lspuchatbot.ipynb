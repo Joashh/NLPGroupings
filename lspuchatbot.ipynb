{
 "cells": [
  {
   "cell_type": "code",
   "execution_count": 29,
   "metadata": {},
   "outputs": [],
   "source": [
    "import io\n",
    "import random\n",
    "import string # to process standard python strings\n",
    "import warnings\n",
    "import numpy as np\n",
    "from sklearn.feature_extraction.text import TfidfVectorizer\n",
    "from sklearn.metrics.pairwise import cosine_similarity\n",
    "import warnings\n",
    "warnings.filterwarnings('ignore')"
   ]
  },
  {
   "cell_type": "code",
   "execution_count": null,
   "metadata": {},
   "outputs": [],
   "source": [
    "pip install nltk"
   ]
  },
  {
   "cell_type": "code",
   "execution_count": 30,
   "metadata": {},
   "outputs": [
    {
     "data": {
      "text/plain": [
       "True"
      ]
     },
     "execution_count": 30,
     "metadata": {},
     "output_type": "execute_result"
    }
   ],
   "source": [
    "import nltk\n",
    "from nltk.stem import WordNetLemmatizer\n",
    "nltk.download('popular', quiet=True) # for downloading packages\n",
    "#nltk.download('punkt') # unang run lang\n",
    "#nltk.download('wordnet') # unang run lang din"
   ]
  },
  {
   "cell_type": "markdown",
   "metadata": {},
   "source": [
    "This is where the data will input. I named it \"intents.json\" juust for sample hehe (data is not ours, tbh acquired it from somewhere down the road)\n"
   ]
  },
  {
   "cell_type": "code",
   "execution_count": 31,
   "metadata": {},
   "outputs": [],
   "source": [
    "import json\n",
    "\n",
    "# Read the JSON data\n",
    "with open('intents.json', 'r', errors='ignore') as f:\n",
    "    data = json.load(f)\n",
    "\n",
    "preprocessed_data = []\n",
    "for intent in data['intents']:\n",
    "    patterns = [pattern.lower() for pattern in intent['patterns']]\n",
    "    preprocessed_data.append({\n",
    "        'tag': intent['tag'],\n",
    "        'patterns': patterns,\n",
    "        'responses': intent['responses']\n",
    "    })\n",
    "\n"
   ]
  },
  {
   "cell_type": "markdown",
   "metadata": {},
   "source": [
    "**<h1>Tokenization</h1>**"
   ]
  },
  {
   "cell_type": "code",
   "execution_count": 32,
   "metadata": {},
   "outputs": [],
   "source": [
    "tokenized_data = []\n",
    "for intent in data[\"intents\"]:\n",
    "    tag = intent[\"tag\"]\n",
    "    patterns = intent[\"patterns\"]\n",
    "    tokenized_patterns = [nltk.word_tokenize(pattern.lower()) for pattern in patterns]\n",
    "    tokenized_data.append({\n",
    "        \"tag\": tag,\n",
    "        \"patterns\": tokenized_patterns,\n",
    "        \"responses\": intent[\"responses\"],\n",
    "        \"context_set\": intent[\"context_set\"]\n",
    "    })"
   ]
  },
  {
   "cell_type": "markdown",
   "metadata": {},
   "source": [
    "**<h1>Preprocessing</h1>**  This is where i will use word net lemmatizers"
   ]
  },
  {
   "cell_type": "code",
   "execution_count": 33,
   "metadata": {},
   "outputs": [],
   "source": [
    "lemmer = nltk.stem.WordNetLemmatizer()\n",
    "#WordNet is a semantically-oriented dictionary of English included in NLTK.\n",
    "def LemTokens(tokens):\n",
    "    return [lemmer.lemmatize(token) for token in tokens]\n",
    "remove_punct_dict = dict((ord(punct), None) for punct in string.punctuation)\n",
    "\n",
    "def LemNormalize(text):\n",
    "    return LemTokens(nltk.word_tokenize(text.lower().translate(remove_punct_dict)))"
   ]
  },
  {
   "cell_type": "markdown",
   "metadata": {},
   "source": [
    "**<h1>Handle Greetings</h1>**"
   ]
  },
  {
   "cell_type": "code",
   "execution_count": 34,
   "metadata": {},
   "outputs": [],
   "source": [
    "GREETING_INPUTS = (\"hello\", \"hi\", \"greetings\", \"sup\", \"what's up\",\"hey\", \"hello there\", \"yo\", \"oy\", \"Hello LSPU\")\n",
    "GREETING_RESPONSES = [\"hi\", \"hey\", \"im here!\", \"hi there\", \"hello\", \"I am glad! You are talking to me\"]\n",
    "def greeting(sentence):\n",
    " \n",
    "    for word in sentence.split():\n",
    "        if word.lower() in GREETING_INPUTS:\n",
    "            return random.choice(GREETING_RESPONSES)"
   ]
  },
  {
   "cell_type": "code",
   "execution_count": 36,
   "metadata": {},
   "outputs": [],
   "source": [
    "from sklearn.feature_extraction.text import TfidfVectorizer\n",
    "from sklearn.metrics.pairwise import cosine_similarity\n",
    "\n",
    "def response(user_response):\n",
    "    # Initialize robo_response\n",
    "    robo_response = ''\n",
    "\n",
    "    # Calculate TF-IDF vectors\n",
    "    tfidf = TfidfVectorizer(tokenizer=LemNormalize, stop_words='english')\n",
    "    tfidf.fit_transform([pattern for intent in data[\"intents\"] for pattern in intent[\"patterns\"]])\n",
    "\n",
    "    # Calculate cosine similarity between user response and patterns\n",
    "    user_tfidf = tfidf.transform([user_response])\n",
    "    similarities = cosine_similarity(user_tfidf, tfidf.transform([pattern for intent in data[\"intents\"] for pattern in intent[\"patterns\"]]))\n",
    "\n",
    "    # Find the index of the most similar pattern\n",
    "    most_similar_index = similarities.argsort()[0][-1]\n",
    "\n",
    "    # Retrieve the corresponding response\n",
    "    robo_response += data[\"intents\"][most_similar_index][\"responses\"][0]  # Assuming there's only one response per pattern\n",
    "\n",
    "    return robo_response\n"
   ]
  },
  {
   "cell_type": "code",
   "execution_count": null,
   "metadata": {},
   "outputs": [],
   "source": [
    "flag=True\n",
    "print(\"Welcome to LSPU Chatbot\")\n",
    "while(flag==True):\n",
    "    user_response = input()\n",
    "    user_response=user_response.lower()\n",
    "    if(user_response!='bye'):\n",
    "        if(user_response=='thanks' or user_response=='thank you' ):\n",
    "            flag=False\n",
    "            print(\"ROBO: You are welcome..\")\n",
    "        else:\n",
    "            if(greeting(user_response)!=None):\n",
    "                print(\"ROBO: \"+greeting(user_response))\n",
    "            else:\n",
    "                print(\"ROBO: \",end=\"\")\n",
    "                print(response(user_response))\n",
    "                sent_tokens.remove(user_response)\n",
    "    else:\n",
    "        flag=False\n",
    "        print(\"ROBO: Bye! take care..\")"
   ]
  },
  {
   "cell_type": "code",
   "execution_count": 5,
   "metadata": {},
   "outputs": [
    {
     "name": "stdout",
     "output_type": "stream",
     "text": [
      "Welcome to LSPU Chatbot\n",
      "User: hello\n",
      "ROBO: hi there\n",
      "User: hello\n",
      "ROBO: i am glad! you are talking to me\n",
      "User: any courses available?\n",
      "ROBO: Our university offers Information Technology, computer Engineering, Mechanical engineering,Chemical engineering, Civil engineering and extc Engineering.\n",
      "User: what are food in canteen?\n",
      "ROBO: we serve Franky, Locho, Alu-puri, Kachori, Khavsa, Thaali and many more on menu\n",
      "User: a\n",
      "ROBO: HODs differ for each branch, please be more specific like: (HOD it)\n",
      "User: bye\n",
      "ROBO: Bye! take care..\n"
     ]
    }
   ],
   "source": [
    "import json\n",
    "import nltk\n",
    "import random\n",
    "import string\n",
    "from sklearn.feature_extraction.text import TfidfVectorizer\n",
    "from sklearn.metrics.pairwise import cosine_similarity\n",
    "\n",
    "# Read the JSON data\n",
    "with open('intents.json', 'r', errors='ignore') as f:\n",
    "    data = json.load(f)\n",
    "\n",
    "# Preprocess the data\n",
    "lemmer = nltk.stem.WordNetLemmatizer()\n",
    "remove_punct_dict = dict((ord(punct), None) for punct in string.punctuation)\n",
    "\n",
    "def LemTokens(tokens):\n",
    "    return [lemmer.lemmatize(token) for token in tokens]\n",
    "\n",
    "def LemNormalize(text):\n",
    "    return LemTokens(nltk.word_tokenize(text.lower().translate(remove_punct_dict)))\n",
    "\n",
    "# Process intents and responses\n",
    "intents = []\n",
    "responses = {}\n",
    "\n",
    "for intent in data['intents']:\n",
    "    for pattern in intent['patterns']:\n",
    "        intents.append(pattern)\n",
    "        responses[pattern] = intent['responses'][0]  # Assuming there's only one response per pattern\n",
    "\n",
    "# Create TF-IDF vectors\n",
    "tfidf = TfidfVectorizer(tokenizer=LemNormalize, stop_words='english')\n",
    "tfidf.fit_transform(intents)\n",
    "\n",
    "# Define greeting responses\n",
    "GREETING_INPUTS = (\"hello\", \"hi\", \"greetings\", \"sup\", \"what's up\", \"hey\", \"hello there\", \"yo\", \"oy\", \"hello lspu\")\n",
    "GREETING_RESPONSES = [\"hi\", \"hey\", \"im here!\", \"hi there\", \"hello\", \"i am glad! you are talking to me\"]\n",
    "\n",
    "def greeting(sentence):\n",
    "    for word in sentence.split():\n",
    "        if word.lower() in GREETING_INPUTS:\n",
    "            return random.choice(GREETING_RESPONSES)\n",
    "# Define response function\n",
    "def response(user_response):\n",
    "    user_tfidf = tfidf.transform([user_response])\n",
    "    similarities = cosine_similarity(user_tfidf, tfidf.transform(intents))\n",
    "    most_similar_index = similarities.argsort()[0][-1]\n",
    "    return responses[intents[most_similar_index]]  # Retrieve the corresponding response\n",
    "\n",
    "# Chat loop\n",
    "flag = True\n",
    "print(\"Welcome to LSPU Chatbot\")\n",
    "while flag:\n",
    "    user_response = input().lower()\n",
    "    print(\"User: \" + user_response)  # Print user input\n",
    "    if user_response != 'bye':\n",
    "        if user_response in ('thanks', 'thank you'):\n",
    "            flag = False\n",
    "            print(\"ROBO: You are welcome..\")\n",
    "        else:\n",
    "            if greeting(user_response) is not None:\n",
    "                print(\"ROBO: \" + greeting(user_response))\n",
    "            else:\n",
    "                print(\"ROBO: \" + response(user_response))\n",
    "    else:\n",
    "        flag = False\n",
    "        print(\"ROBO: Bye! take care..\")\n"
   ]
  }
 ],
 "metadata": {
  "kernelspec": {
   "display_name": "Python 3",
   "language": "python",
   "name": "python3"
  },
  "language_info": {
   "codemirror_mode": {
    "name": "ipython",
    "version": 3
   },
   "file_extension": ".py",
   "mimetype": "text/x-python",
   "name": "python",
   "nbconvert_exporter": "python",
   "pygments_lexer": "ipython3",
   "version": "3.10.0"
  }
 },
 "nbformat": 4,
 "nbformat_minor": 2
}
